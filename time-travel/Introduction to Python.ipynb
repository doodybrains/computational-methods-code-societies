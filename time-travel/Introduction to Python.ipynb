{
 "cells": [
  {
   "cell_type": "markdown",
   "metadata": {},
   "source": [
    "# A (re-)introduction to Python and Jupyter Notebooks\n",
    "\n",
    "## Remarks to set the tone\n",
    "Nabil to reintroduce myself specifically as a programmer and a teacher, building on yesterday's introduction as a member of the SFPC community and some other communities. Believe that it is okay to be slow, and that there is sufficient time for things. [Teach yourself programming in ten years.](https://norvig.com/21-days.html)\n",
    "\n",
    "What is programming? Programming is like magic.\n",
    "\n",
    "![an image of the cover of \"Structure and Interpretation of Computer Programs\", AKA \"The Wizard Book\"](the-wizard-book.jpg)\n",
    "\n",
    "We bend powerful forces to our will and even conjure new concepts and applications into existence merely by typing the proper incantation. Yet what is \"proper\" can be surprisingly difficult to determine even for folks with decades of experience. And although our abstractions can come to seem quite remote from their physical moorings, I encourage you to always remember that these machines are made out of metals and stuff just like a knife is, consume scarce resources such as electricity for the construction and functioning, and that \"the cloud\" is ultimately just someone else's computer.\n",
    "\n",
    "![dialogue between Taeyoon and Ed. Ed says: \"What is the Arduino clock? so this laser cut-quartz is shaking and...\" Taeyoon says: \"it's a rock that's been tricked into thinking](taeyoon-ed-rock-thinking.jpg)\n",
    "\n",
    "If you get frustrated with these machines, that is good; it means you are paying attention to how much they could be than what they are. A laptop is corny just as [a typewriter is corny](http://www.marilynnance.com/titanic/baraka.html). But let us put this to the side for now and get into the nitty-gritty of how to use what has been passed down to us from the programmers of yesteryear, who of course had loftier dreams too."
   ]
  },
  {
   "cell_type": "markdown",
   "metadata": {},
   "source": [
    "## Ways of working with Python\n",
    "There are several ways to interact with Python. We'll mainly discuss three today:\n",
    "- Running the interactive REPL (read-eval-print-loop) with `python`\n",
    "- Running a file in \"batch mode\" from the command line with `python my-file-name-here.py`\n",
    "- Running a Jupyter notebook like this with `jupyter notebook`\n",
    "\n",
    "## Working with files\n",
    "One of the most common sources of data you are likely to work with as a programmer, whether in Python or in any language, is a file on your computer.\n",
    "Let's open up the file we recorded our sensations in earlier."
   ]
  },
  {
   "cell_type": "code",
   "execution_count": 1,
   "metadata": {},
   "outputs": [],
   "source": [
    "sensations = open(\"sensations.txt\")"
   ]
  },
  {
   "cell_type": "markdown",
   "metadata": {},
   "source": [
    "There's more going on this line than meets the eye. We are calling a function called `open` which is part of the standard Python \"library\", or collection of code that. We're calling `open` with one argument, \"sensations.txt\", which is a \"string\", one of several \"types\" of variables. Only certain operations make sense with certain types: you can do math on numbers, but not on strings.\n",
    "\n",
    "We are also storing the data from or \"sensations.txt\" file in a `variable`, which is one of the most common and important concepts in programming. Think of it like a box that can store various contents. We also refer to `sensations` as an `identifier`, `symbol`, or `name` according to context, but `variable` is the most important vocabulary term to remember.\n",
    "\n",
    "Now, let's try doing something with these sensations, like just showing what they are. For historical reasons from days before screens as we know them, many languages including Python use a statement called `print` to do that."
   ]
  },
  {
   "cell_type": "code",
   "execution_count": 2,
   "metadata": {},
   "outputs": [
    {
     "name": "stdout",
     "output_type": "stream",
     "text": [
      "<_io.TextIOWrapper name='sensations.txt' mode='r' encoding='UTF-8'>\n"
     ]
    }
   ],
   "source": [
    "print(sensations)\n"
   ]
  },
  {
   "cell_type": "markdown",
   "metadata": {},
   "source": [
    "Hmm...that doesn't quite seem like what we wanted! We're getting a lot of information about the file itself, instead of what's in it. (`mode='r'` means we opened the file up for reading, as opposed to writing; the UTF-8 encoding is one particular way to represent text as a series of bits, i.e. 1s and 0s.) Here's an approach that works:"
   ]
  },
  {
   "cell_type": "code",
   "execution_count": 3,
   "metadata": {},
   "outputs": [
    {
     "name": "stdout",
     "output_type": "stream",
     "text": [
      "thirst\n",
      "\n",
      "a sip of water\n",
      "\n",
      "regret\n",
      "\n",
      "irony\n",
      "\n",
      "a smirk\n",
      "\n",
      "a cloudy sky\n",
      "\n",
      "a bumpy bus ride\n",
      "\n",
      "moses sumney, \"quarrel\"\n",
      "\n",
      "my own reflection in the large black mirror of this laptop\n",
      "\n"
     ]
    }
   ],
   "source": [
    "for line in sensations:\n",
    "    print(line)"
   ]
  },
  {
   "cell_type": "markdown",
   "metadata": {},
   "source": [
    "That's more like it. We've just introduced another fundamental concept of programming: loops. Computers aren't very smart, but they are good at doing things repeatedly. A `for` loop operates on some type of compound `data structure` one element at a time. In the case of text files, a line is considered the singular element.\n",
    "\n",
    "In some languages, indentation is just for readability, but in Python, indentation is semantically significant. the fact that the line starting with `print` is to the right of the line starting with `for` has a meaning to the computer: that the `print` statement should happen repeatedly in the loop. Let's see\n",
    "\n",
    "What if we wanted to see those lines again?"
   ]
  },
  {
   "cell_type": "code",
   "execution_count": 4,
   "metadata": {},
   "outputs": [],
   "source": [
    "for line in sensations:\n",
    "    print(line)"
   ]
  },
  {
   "cell_type": "markdown",
   "metadata": {},
   "source": [
    "Nothing happened the second time! Why? It worked the first time.\n",
    "\n",
    "There is some implicit `state` when we are dealing with files, among other things. The varying `state` of the program or the world may not be explicitly represented in our program the way `sensations` are stored in a variable in our program, but it still does have an effect on what our program does.\n",
    "\n",
    "Conceptually, we have some kind of cursor or position in the file, initially at the beginning, but by the time we finished running the for loop the first time, our cursor was at the end, and so the file was considered \"used up\". If you know this is how things work, it's a simple matter to just open the file again and start from the beginning. But if you don't know this, it might be very confusing indeed. It can cause a lot of problems with Jupyter notebooks specifically depending on the order in which you execute cells, so be conscious of that!\n",
    "\n",
    "When `debugging`, I encourage you to think like a scientist: attempt to falsify your hypothesis rather than confirm it. Try to break your own assumptions about how things work, one line of code at a time, and see where it leads you."
   ]
  },
  {
   "cell_type": "code",
   "execution_count": 9,
   "metadata": {},
   "outputs": [],
   "source": [
    "sensations.close()"
   ]
  },
  {
   "cell_type": "markdown",
   "metadata": {},
   "source": [
    "Because resources are scarce, it's a good habit to close files when we're done with them. This is a `function call`, or more specifically a `method invocation`. The identifer `sensations` refers to a file object which has a `method` or `function` called close. In Python, we always call functions with parentheses, which might have something inside them, or not in this case.\n",
    "\n",
    "If you're just working with a few files and you never close them, you won't have a problem, but if you're dealing with a lot of them carelessly, you'll eventually run up against something called a `ulimit` which you can google if you care to learn more.\n",
    "\n",
    "Let's find out what happens if we try to use the file again after it's closed."
   ]
  },
  {
   "cell_type": "code",
   "execution_count": 10,
   "metadata": {},
   "outputs": [
    {
     "ename": "ValueError",
     "evalue": "I/O operation on closed file.",
     "output_type": "error",
     "traceback": [
      "\u001b[0;31m---------------------------------------------------------------------------\u001b[0m",
      "\u001b[0;31mValueError\u001b[0m                                Traceback (most recent call last)",
      "\u001b[0;32m<ipython-input-10-6941180bf42f>\u001b[0m in \u001b[0;36m<module>\u001b[0;34m\u001b[0m\n\u001b[0;32m----> 1\u001b[0;31m \u001b[0;32mfor\u001b[0m \u001b[0mline\u001b[0m \u001b[0;32min\u001b[0m \u001b[0msensations\u001b[0m\u001b[0;34m:\u001b[0m\u001b[0;34m\u001b[0m\u001b[0;34m\u001b[0m\u001b[0m\n\u001b[0m\u001b[1;32m      2\u001b[0m     \u001b[0mprint\u001b[0m\u001b[0;34m(\u001b[0m\u001b[0mline\u001b[0m\u001b[0;34m)\u001b[0m\u001b[0;34m\u001b[0m\u001b[0;34m\u001b[0m\u001b[0m\n\u001b[1;32m      3\u001b[0m \u001b[0;34m\u001b[0m\u001b[0m\n",
      "\u001b[0;31mValueError\u001b[0m: I/O operation on closed file."
     ]
    }
   ],
   "source": [
    "for line in sensations:\n",
    "    print(line)\n",
    "    "
   ]
  },
  {
   "cell_type": "markdown",
   "metadata": {},
   "source": [
    "\"ValueError: I/O operation on closed file.\" is hopefully straightforward enough to understand. Many messages are not, however, and for that we have a time-honored programming practice.\n",
    "\n",
    "![Googling the error message joke book cover](googling-the-error-message.jpg)\n",
    "\n",
    "As a coding \"jack of trades, master of none\", developing a strong google-fu has been my best asset in getting diverse types of work done. Stack Overflow is often my go-to site that I'll click on first in the list of results."
   ]
  },
  {
   "cell_type": "markdown",
   "metadata": {},
   "source": [
    "## Conditional statements, and more sophisticated variable types\n",
    "Now, let's do some slightly more complex processing on our file, which we'll also need to reopen again, as we've seen. Instead of printing things directly, let's store them in a new type of variable called a list."
   ]
  },
  {
   "cell_type": "code",
   "execution_count": 21,
   "metadata": {},
   "outputs": [
    {
     "name": "stdout",
     "output_type": "stream",
     "text": [
      "there's no i in team but whatever...thirst\n",
      "\n",
      "there's no i in team but whatever...a sip of water\n",
      "\n",
      "teamwork makes the dream work! regret\n",
      "\n",
      "there's no i in team but whatever...irony\n",
      "\n",
      "there's no i in team but whatever...a smirk\n",
      "\n",
      "teamwork makes the dream work! a cloudy sky\n",
      "\n",
      "there's no i in team but whatever...a bumpy bus ride\n",
      "\n",
      "teamwork makes the dream work! moses sumney, \"quarrel\"\n",
      "\n",
      "there's no i in team but whatever...my own reflection in the large black mirror of this laptop\n",
      "\n"
     ]
    }
   ],
   "source": [
    "myLines = []\n",
    "\n",
    "for line in open(\"sensations.txt\"):  # this time we don't bother storing it in a variable\n",
    "    if \"i\" in line:  # start with just if\n",
    "        myLine = \"there's no i in team but whatever...\" + line  # the \"+\" here means string concatenation\n",
    "    else:\n",
    "         myLine = \"teamwork makes the dream work! \" + line\n",
    "    myLines.append(myLine)\n",
    "    \n",
    "for line in myLines:\n",
    "    print(line)"
   ]
  },
  {
   "cell_type": "markdown",
   "metadata": {},
   "source": [
    "We've now introduced another fundamenal \"control flow\" structure, in addition to loops: conditional statements. The `if` statement is something you'll see a lot. It expects another `type` of value to be provided to it: a Boolean, which is `True` or `False`. There is no third alternative."
   ]
  },
  {
   "cell_type": "code",
   "execution_count": 19,
   "metadata": {},
   "outputs": [
    {
     "name": "stdout",
     "output_type": "stream",
     "text": [
      "False\n",
      "True\n",
      "i in team\n",
      "that's what i thought.\n",
      "equal\n"
     ]
    }
   ],
   "source": [
    "print(3 > 5)\n",
    "print(len(\"hello, world\") == 12)\n",
    "print (\"i in team\")\n",
    "\n",
    "if \"i\" in \"team\":\n",
    "    print(\"that's surprising.\")\n",
    "else:\n",
    "    print(\"that's what i thought.\")\n",
    "\n",
    "x = 5\n",
    "limit = 5\n",
    "if x < limit:\n",
    "    print(\"small\")\n",
    "elif x > limit:\n",
    "    print(\"big\")\n",
    "else:\n",
    "    print(\"equal\")"
   ]
  },
  {
   "cell_type": "markdown",
   "metadata": {},
   "source": [
    "You'll often want to combine various conditions, which you can do using the logical operators `and`, `or` and `not`."
   ]
  },
  {
   "cell_type": "code",
   "execution_count": null,
   "metadata": {},
   "outputs": [],
   "source": [
    "if \"i\" in \"team\" or \"m\" in \"team\":\n",
    "    print (\"there's an m in team\")"
   ]
  },
  {
   "cell_type": "markdown",
   "metadata": {},
   "source": [
    "Let's get back to `myLines` from earlier. What if we want to see our lines again?"
   ]
  },
  {
   "cell_type": "code",
   "execution_count": 13,
   "metadata": {},
   "outputs": [
    {
     "name": "stdout",
     "output_type": "stream",
     "text": [
      "there's no i in team but whatever...thirst\n",
      "\n",
      "there's no i in team but whatever...a sip of water\n",
      "\n",
      "this is a normal line. regret\n",
      "\n",
      "there's no i in team but whatever...irony\n",
      "\n",
      "there's no i in team but whatever...a smirk\n",
      "\n",
      "this line is a-ok! a cloudy sky\n",
      "\n",
      "there's no i in team but whatever...a bumpy bus ride\n",
      "\n",
      "this line is a-ok! moses sumney, \"quarrel\"\n",
      "\n",
      "there's no i in team but whatever...my own reflection in the large black mirror of this laptop\n",
      "\n"
     ]
    }
   ],
   "source": [
    "for line in myLines:\n",
    "    print(line)"
   ]
  },
  {
   "cell_type": "markdown",
   "metadata": {},
   "source": [
    "Unlike when trying to read through a file multiple times, it worked. So it can definitely be useful to store our data in some kind of intermediate data structure. Here are a few other handy examples of using lists:"
   ]
  },
  {
   "cell_type": "code",
   "execution_count": 14,
   "metadata": {},
   "outputs": [
    {
     "name": "stdout",
     "output_type": "stream",
     "text": [
      "there's no i in team but whatever...thirst\n",
      "\n",
      "9\n",
      "there's no i in team but whatever...my own reflection in the large black mirror of this laptop\n",
      "\n"
     ]
    }
   ],
   "source": [
    "print(myLines[0])  # note that the \"first\" element is actually not at the beginning, the \"zeroth\" is!\n",
    "print(len(myLines))  # you ca\n",
    "print(myLines[-1])  # a handy, Python-specific shortcut to get the last element. You can keep counting backwards too"
   ]
  },
  {
   "cell_type": "markdown",
   "metadata": {},
   "source": [
    "Now we've processed some of our feelings, and have them handy in a box or variable, but that state will be lost when or file finishes executing. Let's save our output to a file so it's persistent rather than ephemeral."
   ]
  },
  {
   "cell_type": "code",
   "execution_count": 22,
   "metadata": {},
   "outputs": [],
   "source": [
    "newFile = open(\"processed-sensations.txt\", \"w\")  # important that we pass the second argument so we can write!\n",
    "for line in myLines:  # finally, actually do this\n",
    "    newFile.write(line)"
   ]
  },
  {
   "cell_type": "markdown",
   "metadata": {},
   "source": [
    "Now if we read \"processed-sensations.txt\", whether from here in Python or at the command line with a program like `cat` or `less` or however else, our feelings will be remembered."
   ]
  },
  {
   "cell_type": "markdown",
   "metadata": {},
   "source": [
    "## Modularity\n",
    "When writing \"quick and dirty\" scripts to get something done, writing a series of commands as we have been so far is typically what we want to do. But when programs start getting more complex, it's helpful to our own understanding to add more structure. A fundamental construct we've seen how to use already are `function`s, which you should note in most programming languages including Python, are not the same as functions in math.\n",
    "\n",
    "In math, a function must always return the same output, given the same input. In \"functional programming\" specifically, that is also true, and Nabil is into it for simplifying some of the issues state can cause. But more commonly, a `function` is just a name for any type of procedure."
   ]
  },
  {
   "cell_type": "code",
   "execution_count": 27,
   "metadata": {},
   "outputs": [
    {
     "name": "stdout",
     "output_type": "stream",
     "text": [
      "hello, nabil\n"
     ]
    }
   ],
   "source": [
    "def greet(name):\n",
    "    return \"hello, \" + name\n",
    "\n",
    "greeting = greet('nabil')\n",
    "print(greeting)"
   ]
  },
  {
   "cell_type": "markdown",
   "metadata": {},
   "source": [
    "We can write functions just like this to use them repeatedly and separate out just the part that differs each time we call it, such as the person's name in this simple example. The special `return` statement gives a value that the function results in, and can be stored in a variable. You could also print or take other actions directly from within the function -- it is optional in Python to return a value from a function.\n",
    "\n",
    "Besides the functions that we write ourselves, or are builtin like `open`, other functions might live in non-standard libraries. We can get to them with the special `import` statement."
   ]
  },
  {
   "cell_type": "code",
   "execution_count": null,
   "metadata": {},
   "outputs": [],
   "source": [
    "import platform\n",
    "platform.platform()"
   ]
  },
  {
   "cell_type": "markdown",
   "metadata": {},
   "source": [
    "This might be different for each of you! There are many other libraries with pre-written code that could be of use to you."
   ]
  },
  {
   "cell_type": "markdown",
   "metadata": {},
   "source": [
    "## Enrichment\n",
    "We can call other functions from within functions, including the same function itself."
   ]
  },
  {
   "cell_type": "code",
   "execution_count": null,
   "metadata": {},
   "outputs": [],
   "source": [
    "def factorial(n):\n",
    "    if n == 0:\n",
    "        return 1\n",
    "    return n * factorial(n-1)"
   ]
  },
  {
   "cell_type": "markdown",
   "metadata": {},
   "source": [
    "This is called \"recursion\". Exercise: try defining a function to calculate fibonacci numbers. Advanced exercise: try calling it with a large number, figure out why it's slow, and fix it."
   ]
  }
 ],
 "metadata": {
  "kernelspec": {
   "display_name": "Python 3",
   "language": "python",
   "name": "python3"
  },
  "language_info": {
   "codemirror_mode": {
    "name": "ipython",
    "version": 3
   },
   "file_extension": ".py",
   "mimetype": "text/x-python",
   "name": "python",
   "nbconvert_exporter": "python",
   "pygments_lexer": "ipython3",
   "version": "3.7.1"
  }
 },
 "nbformat": 4,
 "nbformat_minor": 2
}
